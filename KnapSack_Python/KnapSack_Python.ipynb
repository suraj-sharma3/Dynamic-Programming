{
 "cells": [
  {
   "cell_type": "markdown",
   "metadata": {},
   "source": [
    "### The below given code is an implementation of the 0/1 Knapsack problem using recursion. The 0/1 Knapsack problem is a classic optimization problem where the goal is to maximize the total profit of items selected for the knapsack, given their weights and profits, without exceeding the knapsack's capacity."
   ]
  },
  {
   "cell_type": "code",
   "execution_count": 1,
   "metadata": {},
   "outputs": [
    {
     "name": "stdout",
     "output_type": "stream",
     "text": [
      "Enter the profits: \n",
      "Enter the weights: \n",
      "36\n"
     ]
    }
   ],
   "source": [
    "def knapsack(Capacity, weights, profits, num_items_in_store): \n",
    "    if(num_items_in_store==0 or Capacity==0):\n",
    "        return 0\n",
    "    if(weights[num_items_in_store-1] > Capacity):\n",
    "        return knapsack(Capacity, weights, profits, num_items_in_store-1)\n",
    "    else:\n",
    "        return max(profits[num_items_in_store-1]+knapsack(Capacity-weights[num_items_in_store-1], weights, profits, num_items_in_store-1), knapsack(Capacity,weights, profits, num_items_in_store-1)) \n",
    "    \n",
    "print(\"Enter the profits: \")\n",
    "profits=list(map(int,input().split(\" \")))\n",
    "print(\"Enter the weights: \")\n",
    "weights=list(map(int,input().split(\" \")))\n",
    "Capacity=int(input(\"Enter the maximum capacity: \"))\n",
    "num_items_in_the_store=len(weights)\n",
    "print(knapsack(Capacity, weights, profits, num_items_in_the_store))"
   ]
  },
  {
   "cell_type": "markdown",
   "metadata": {},
   "source": [
    "### This is a recursive function knapsack that takes four parameters:\n",
    "\n",
    "- Capacity: the maximum weight the knapsack can hold.\n",
    "- weights: a list containing the weights of the items.\n",
    "- profits: a list containing the profits corresponding to the items.\n",
    "- num_items_in_store: the number of items available in the store.\n",
    "\n",
    "#### The function uses recursion to find the maximum profit that can be obtained by selecting items for the knapsack. \n",
    "#### The base case checks if there are no items left (num_items_in_store == 0) or if the knapsack's capacity is zero (Capacity == 0). In these cases, the function returns 0 as there are no items to select.\n",
    "\n",
    "#### The recursive part of the function involves two scenarios:\n",
    "\n",
    "- If the weight of the current item is greater than the remaining capacity of the knapsack, then this item cannot be included, and the function is called recursively with the next item (num_items_in_store - 1).\n",
    "\n",
    "- If the weight of the current item can be accommodated in the knapsack, the function calculates the maximum profit by considering two options:\n",
    "\n",
    "    - Including the current item and reducing the capacity accordingly.\n",
    "    - Excluding the current item and keeping the capacity the same.\n",
    "\n",
    "- The max function is used to choose the option that yields the maximum profit.\n",
    "\n",
    "- The code then takes user input for profits, weights, maximum capacity, and the number of items in the store. Finally, it calls the knapsack function with the provided inputs and prints the result.\n",
    "\n",
    "- Dynamic programming or memoization techniques can be used to optimize the solution and avoid redundant computations."
   ]
  },
  {
   "cell_type": "markdown",
   "metadata": {},
   "source": [
    "### Mapping to Climbing Route Generation: \n",
    "\n",
    "- Items in the Knapsack: Instead of items with weights and profits, think of climbing holds as items with attributes such as shape, size, difficulty, and enjoyment level.\n",
    "- Capacity of the Knapsack: Represents the constraints of your climbing wall, including its dimensions and available area.\n",
    "\n",
    "#### Objective Function: Define a fitness function or objective function that evaluates the quality of a climbing route based on factors like enjoyment and difficulty. This could be analogous to the profit in the knapsack problem."
   ]
  }
 ],
 "metadata": {
  "kernelspec": {
   "display_name": "Python 3",
   "language": "python",
   "name": "python3"
  },
  "language_info": {
   "codemirror_mode": {
    "name": "ipython",
    "version": 3
   },
   "file_extension": ".py",
   "mimetype": "text/x-python",
   "name": "python",
   "nbconvert_exporter": "python",
   "pygments_lexer": "ipython3",
   "version": "3.11.3"
  }
 },
 "nbformat": 4,
 "nbformat_minor": 2
}
